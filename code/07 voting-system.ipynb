{
 "cells": [
  {
   "cell_type": "code",
   "execution_count": 1,
   "metadata": {
    "collapsed": true
   },
   "outputs": [],
   "source": [
    "import pickle\n",
    "import numpy as np\n",
    "from tensorflow.contrib import predictor\n",
    "from nltk import word_tokenize\n",
    "import pandas as pd\n",
    "from tqdm import tqdm_notebook\n",
    "from sklearn.linear_model import LogisticRegression"
   ]
  },
  {
   "cell_type": "markdown",
   "metadata": {},
   "source": [
    "This is the notebook for the voting system done by the three LSTMs, each trained on a different given dataset.\n",
    "\n",
    "All datasets are loaded, evaluated by all models, and then results are saved to another CSV file. Those examples for which all models agree correctly are saved to a new dataset to be used in a separate LSTM."
   ]
  },
  {
   "cell_type": "markdown",
   "metadata": {},
   "source": [
    "# mark votes"
   ]
  },
  {
   "cell_type": "code",
   "execution_count": 5,
   "metadata": {
    "collapsed": true
   },
   "outputs": [],
   "source": [
    "train = pd.read_csv('df/train_df.csv')\n",
    "test = pd.read_csv('df/test_df.csv')\n",
    "byarticle = pd.read_csv('df/byarticle_df.csv')"
   ]
  },
  {
   "cell_type": "code",
   "execution_count": 8,
   "metadata": {
    "collapsed": true
   },
   "outputs": [],
   "source": [
    "max_sent_length = 100\n",
    "word_embed_size = 50\n",
    "embed_vocab_size = len(word2idx.keys())\n",
    "word2idx = pickle.load(open(\"word-embeddings/embed_total_idx.pkl\", \"rb\" ))\n",
    "\n",
    "def process(sent):\n",
    "    # Takes text, transforms to padded, uniform length vectors of word indices in embedding.\n",
    "    \n",
    "    vector = np.zeros([max_sent_length])\n",
    "    \n",
    "    if type(sent) == str:\n",
    "            sent = word_tokenize(sent)\n",
    "    elif type(sent) == np.str_:\n",
    "            sent = word_tokenize(sent)\n",
    "    else:\n",
    "        sent = []\n",
    "            \n",
    "    for word_idx in range(max_sent_length):\n",
    "        try:\n",
    "            word = str(sent[word_idx]).lower()\n",
    "            vector[word_idx] = word2idx[word]\n",
    "        except KeyError:\n",
    "            vector[word_idx] = embed_vocab_size\n",
    "        except IndexError:\n",
    "            vector[word_idx] = embed_vocab_size\n",
    "\n",
    "    return [vector]"
   ]
  },
  {
   "cell_type": "code",
   "execution_count": 4,
   "metadata": {},
   "outputs": [
    {
     "name": "stdout",
     "output_type": "stream",
     "text": [
      "INFO:tensorflow:Restoring parameters from /project/cramerus/LSTM-text-train/variables/variables\n",
      "INFO:tensorflow:Restoring parameters from /project/cramerus/LSTM-text-test/variables/variables\n",
      "INFO:tensorflow:Restoring parameters from /project/cramerus/LSTM-text-byarticle/variables/variables\n"
     ]
    }
   ],
   "source": [
    "train_pred = predictor.from_saved_model(\"/project/cramerus/LSTM-text-train\")\n",
    "test_pred = predictor.from_saved_model(\"/project/cramerus/LSTM-text-test\")\n",
    "byarticle_pred = predictor.from_saved_model(\"/project/cramerus/LSTM-text-byarticle\")"
   ]
  },
  {
   "cell_type": "code",
   "execution_count": 17,
   "metadata": {
    "collapsed": true
   },
   "outputs": [],
   "source": [
    "def add_pred_cols(df):\n",
    "    \n",
    "    df['train_pred'] = np.nan\n",
    "    df['train_pred'] = df['train_pred'].astype(object)\n",
    "    df['test_pred'] = np.nan\n",
    "    df['test_pred'] = df['test_pred'].astype(object)\n",
    "    df['byarticle_pred'] = np.nan\n",
    "    df['byarticle_pred'] = df['byarticle_pred'].astype(object)\n",
    "\n",
    "    for idx, row in tqdm_notebook(df.iterrows(), total = df.shape[0]):\n",
    "        if pd.isnull(row['text']):\n",
    "            continue\n",
    "        else:\n",
    "            df.at[idx, 'train_pred'] = train_pred({\"Sentence\": process(row['text'])})['Prediction'][0]\n",
    "            df.at[idx, 'test_pred'] = test_pred({\"Sentence\": process(row['text'])})['Prediction'][0]\n",
    "            df.at[idx, 'byarticle_pred'] = byarticle_pred({\"Sentence\": process(row['text'])})['Prediction'][0]\n",
    "            \n",
    "    return df        "
   ]
  },
  {
   "cell_type": "code",
   "execution_count": 20,
   "metadata": {},
   "outputs": [
    {
     "data": {
      "application/vnd.jupyter.widget-view+json": {
       "model_id": "8683a47a648f42f296d829988a485fdc",
       "version_major": 2,
       "version_minor": 0
      },
      "text/plain": [
       "HBox(children=(IntProgress(value=0, max=645), HTML(value='')))"
      ]
     },
     "metadata": {},
     "output_type": "display_data"
    },
    {
     "name": "stdout",
     "output_type": "stream",
     "text": [
      "\n"
     ]
    }
   ],
   "source": [
    "byarticle = add_pred_cols(byarticle)"
   ]
  },
  {
   "cell_type": "code",
   "execution_count": 21,
   "metadata": {},
   "outputs": [
    {
     "data": {
      "application/vnd.jupyter.widget-view+json": {
       "model_id": "e4dec2d1c6004b2c9fbb89b866b113c6",
       "version_major": 2,
       "version_minor": 0
      },
      "text/plain": [
       "HBox(children=(IntProgress(value=0, max=150000), HTML(value='')))"
      ]
     },
     "metadata": {},
     "output_type": "display_data"
    },
    {
     "name": "stdout",
     "output_type": "stream",
     "text": [
      "\n"
     ]
    }
   ],
   "source": [
    "test = add_pred_cols(test)"
   ]
  },
  {
   "cell_type": "code",
   "execution_count": 23,
   "metadata": {
    "collapsed": true
   },
   "outputs": [],
   "source": [
    "byarticle.to_csv('df/byarticle_df_vote.csv', index=False)"
   ]
  },
  {
   "cell_type": "code",
   "execution_count": 24,
   "metadata": {
    "collapsed": true
   },
   "outputs": [],
   "source": [
    "test.to_csv('df/test_df_vote.csv', index=False)"
   ]
  },
  {
   "cell_type": "code",
   "execution_count": 25,
   "metadata": {},
   "outputs": [
    {
     "data": {
      "application/vnd.jupyter.widget-view+json": {
       "model_id": "89e6843987cb4f9080ad059289621113",
       "version_major": 2,
       "version_minor": 0
      },
      "text/plain": [
       "HBox(children=(IntProgress(value=0, max=600000), HTML(value='')))"
      ]
     },
     "metadata": {},
     "output_type": "display_data"
    }
   ],
   "source": [
    "train = add_pred_cols(train)"
   ]
  },
  {
   "cell_type": "code",
   "execution_count": 26,
   "metadata": {
    "collapsed": true
   },
   "outputs": [],
   "source": [
    "train.to_csv('df/train_df_vote.csv', index=False)"
   ]
  },
  {
   "cell_type": "code",
   "execution_count": 27,
   "metadata": {},
   "outputs": [
    {
     "data": {
      "text/html": [
       "<div>\n",
       "<style scoped>\n",
       "    .dataframe tbody tr th:only-of-type {\n",
       "        vertical-align: middle;\n",
       "    }\n",
       "\n",
       "    .dataframe tbody tr th {\n",
       "        vertical-align: top;\n",
       "    }\n",
       "\n",
       "    .dataframe thead th {\n",
       "        text-align: right;\n",
       "    }\n",
       "</style>\n",
       "<table border=\"1\" class=\"dataframe\">\n",
       "  <thead>\n",
       "    <tr style=\"text-align: right;\">\n",
       "      <th></th>\n",
       "      <th>title</th>\n",
       "      <th>text</th>\n",
       "      <th>label</th>\n",
       "      <th>bias</th>\n",
       "      <th>train_pred</th>\n",
       "      <th>test_pred</th>\n",
       "      <th>byarticle_pred</th>\n",
       "    </tr>\n",
       "  </thead>\n",
       "  <tbody>\n",
       "    <tr>\n",
       "      <th>0</th>\n",
       "      <td>After DeVos Announced Plans To Reexamine Title...</td>\n",
       "      <td>When explaining her decision to reevaluate Tit...</td>\n",
       "      <td>True</td>\n",
       "      <td>right</td>\n",
       "      <td>0</td>\n",
       "      <td>1</td>\n",
       "      <td>1</td>\n",
       "    </tr>\n",
       "    <tr>\n",
       "      <th>1</th>\n",
       "      <td>University To Award Trayvon Martin With Posthu...</td>\n",
       "      <td>A Florida university will honor Trayvon Martin...</td>\n",
       "      <td>True</td>\n",
       "      <td>right</td>\n",
       "      <td>1</td>\n",
       "      <td>0</td>\n",
       "      <td>1</td>\n",
       "    </tr>\n",
       "    <tr>\n",
       "      <th>2</th>\n",
       "      <td>Texas State University suspends Greek life aft...</td>\n",
       "      <td>Texas State University has suspended all Greek...</td>\n",
       "      <td>False</td>\n",
       "      <td>right-center</td>\n",
       "      <td>0</td>\n",
       "      <td>1</td>\n",
       "      <td>1</td>\n",
       "    </tr>\n",
       "    <tr>\n",
       "      <th>3</th>\n",
       "      <td>Jewish Organization's Huge Day Of Unity On Tue...</td>\n",
       "      <td>Against the backdrop of an increasingly polari...</td>\n",
       "      <td>True</td>\n",
       "      <td>right</td>\n",
       "      <td>1</td>\n",
       "      <td>1</td>\n",
       "      <td>1</td>\n",
       "    </tr>\n",
       "    <tr>\n",
       "      <th>4</th>\n",
       "      <td>BREAKING: Trump Reaches Agreement To Keep 1,00...</td>\n",
       "      <td>President-elect Donald Trump has reached an ag...</td>\n",
       "      <td>True</td>\n",
       "      <td>right</td>\n",
       "      <td>1</td>\n",
       "      <td>1</td>\n",
       "      <td>0</td>\n",
       "    </tr>\n",
       "  </tbody>\n",
       "</table>\n",
       "</div>"
      ],
      "text/plain": [
       "                                               title  \\\n",
       "0  After DeVos Announced Plans To Reexamine Title...   \n",
       "1  University To Award Trayvon Martin With Posthu...   \n",
       "2  Texas State University suspends Greek life aft...   \n",
       "3  Jewish Organization's Huge Day Of Unity On Tue...   \n",
       "4  BREAKING: Trump Reaches Agreement To Keep 1,00...   \n",
       "\n",
       "                                                text  label          bias  \\\n",
       "0  When explaining her decision to reevaluate Tit...   True         right   \n",
       "1  A Florida university will honor Trayvon Martin...   True         right   \n",
       "2  Texas State University has suspended all Greek...  False  right-center   \n",
       "3  Against the backdrop of an increasingly polari...   True         right   \n",
       "4  President-elect Donald Trump has reached an ag...   True         right   \n",
       "\n",
       "  train_pred test_pred byarticle_pred  \n",
       "0          0         1              1  \n",
       "1          1         0              1  \n",
       "2          0         1              1  \n",
       "3          1         1              1  \n",
       "4          1         1              0  "
      ]
     },
     "execution_count": 27,
     "metadata": {},
     "output_type": "execute_result"
    }
   ],
   "source": [
    "train.head()"
   ]
  },
  {
   "cell_type": "markdown",
   "metadata": {},
   "source": [
    "# explore votes"
   ]
  },
  {
   "cell_type": "code",
   "execution_count": 3,
   "metadata": {
    "collapsed": true
   },
   "outputs": [],
   "source": [
    "train = pd.read_csv('df/train_df_vote.csv').dropna()\n",
    "test = pd.read_csv('df/test_df_vote.csv').dropna()\n",
    "byarticle = pd.read_csv('df/byarticle_df_vote.csv').dropna()"
   ]
  },
  {
   "cell_type": "code",
   "execution_count": 5,
   "metadata": {
    "collapsed": true,
    "scrolled": true
   },
   "outputs": [],
   "source": [
    "train['train_pred'] = train['train_pred'].astype(int)\n",
    "train['test_pred'] = train['test_pred'].astype(int)\n",
    "train['byarticle_pred'] = train['byarticle_pred'].astype(int)\n",
    "train['label'] = train['label'].astype(int)\n",
    "\n",
    "test['train_pred'] = test['train_pred'].astype(int)\n",
    "test['test_pred'] = test['test_pred'].astype(int)\n",
    "test['byarticle_pred'] = test['byarticle_pred'].astype(int)\n",
    "test['label'] = test['label'].astype(int)\n",
    "\n",
    "byarticle['train_pred'] = byarticle['train_pred'].astype(int)\n",
    "byarticle['test_pred'] = byarticle['test_pred'].astype(int)\n",
    "byarticle['byarticle_pred'] = byarticle['byarticle_pred'].astype(int)\n",
    "byarticle['label'] = byarticle['label'].astype(int)"
   ]
  },
  {
   "cell_type": "code",
   "execution_count": 56,
   "metadata": {},
   "outputs": [
    {
     "name": "stderr",
     "output_type": "stream",
     "text": [
      "/usr/local/lib/python3.5/dist-packages/ipykernel_launcher.py:6: FutureWarning: Sorting because non-concatenation axis is not aligned. A future version\n",
      "of pandas will change to not sort by default.\n",
      "\n",
      "To accept the future behavior, pass 'sort=False'.\n",
      "\n",
      "To retain the current behavior and silence the warning, pass 'sort=True'.\n",
      "\n",
      "  \n"
     ]
    }
   ],
   "source": [
    "combined = pd.concat([byarticle[byarticle['label']==True].sample(200),\n",
    "                      byarticle[byarticle['label']==False].sample(200),\n",
    "                      test[test['label']==True].sample(200),\n",
    "                      test[test['label']==False].sample(200),\n",
    "                      train[train['label']==True].sample(200),\n",
    "                      train[train['label']==False].sample(200)])"
   ]
  },
  {
   "cell_type": "code",
   "execution_count": 69,
   "metadata": {
    "scrolled": true
   },
   "outputs": [
    {
     "name": "stderr",
     "output_type": "stream",
     "text": [
      "/home/users/rcramerus/.local/lib/python3.5/site-packages/sklearn/linear_model/logistic.py:433: FutureWarning: Default solver will be changed to 'lbfgs' in 0.22. Specify a solver to silence this warning.\n",
      "  FutureWarning)\n"
     ]
    },
    {
     "name": "stdout",
     "output_type": "stream",
     "text": [
      "byarticle score: \n",
      "0.6201550387596899\n",
      "train score: \n",
      "0.6852039451688399\n",
      "test score: \n",
      "0.633235304796137\n"
     ]
    }
   ],
   "source": [
    "clf = LogisticRegression()\n",
    "clf.fit(combined[['train_pred', 'test_pred', 'byarticle_pred']], combined['label'])\n",
    "\n",
    "print('byarticle score: ')\n",
    "print(clf.score(byarticle[['train_pred', 'test_pred', 'byarticle_pred']], byarticle['label']))\n",
    "print('train score: ')\n",
    "print(clf.score(train[['train_pred', 'test_pred', 'byarticle_pred']], train['label']))\n",
    "print('test score: ')\n",
    "print(clf.score(test[['train_pred', 'test_pred', 'byarticle_pred']], test['label']))"
   ]
  },
  {
   "cell_type": "code",
   "execution_count": 68,
   "metadata": {},
   "outputs": [
    {
     "name": "stderr",
     "output_type": "stream",
     "text": [
      "/usr/local/lib/python3.5/dist-packages/ipykernel_launcher.py:6: FutureWarning: Sorting because non-concatenation axis is not aligned. A future version\n",
      "of pandas will change to not sort by default.\n",
      "\n",
      "To accept the future behavior, pass 'sort=False'.\n",
      "\n",
      "To retain the current behavior and silence the warning, pass 'sort=True'.\n",
      "\n",
      "  \n",
      "/home/users/rcramerus/.local/lib/python3.5/site-packages/sklearn/linear_model/logistic.py:433: FutureWarning: Default solver will be changed to 'lbfgs' in 0.22. Specify a solver to silence this warning.\n",
      "  FutureWarning)\n"
     ]
    },
    {
     "name": "stdout",
     "output_type": "stream",
     "text": [
      "training score: \n",
      "0.6483333333333333\n",
      "byarticle score: \n",
      "0.6201550387596899\n",
      "train score: \n",
      "0.6852039451688399\n",
      "test score: \n",
      "0.633235304796137\n"
     ]
    }
   ],
   "source": [
    "comb_df = pd.concat([byarticle[byarticle['label']==True].sample(200),\n",
    "                      byarticle[byarticle['label']==False].sample(200),\n",
    "                      test[test['label']==True].sample(200),\n",
    "                      test[test['label']==False].sample(200),\n",
    "                      train[train['label']==True].sample(200),\n",
    "                      train[train['label']==False].sample(200)\n",
    "                    ])\n",
    "\n",
    "clf = LogisticRegression()\n",
    "clf.fit(comb_df[['train_pred', 'test_pred', 'byarticle_pred']], comb_df['label'])\n",
    "\n",
    "print('training score: ')\n",
    "print(clf.score(comb_df[['train_pred', 'test_pred', 'byarticle_pred']], comb_df['label']))\n",
    "print('byarticle score: ')\n",
    "print(clf.score(byarticle[['train_pred', 'test_pred', 'byarticle_pred']], byarticle['label']))\n",
    "print('train score: ')\n",
    "print(clf.score(train[['train_pred', 'test_pred', 'byarticle_pred']], train['label']))\n",
    "print('test score: ')\n",
    "print(clf.score(test[['train_pred', 'test_pred', 'byarticle_pred']], test['label']))"
   ]
  },
  {
   "cell_type": "code",
   "execution_count": 83,
   "metadata": {},
   "outputs": [
    {
     "name": "stderr",
     "output_type": "stream",
     "text": [
      "/usr/local/lib/python3.5/dist-packages/ipykernel_launcher.py:1: UserWarning: Boolean Series key will be reindexed to match DataFrame index.\n",
      "  \"\"\"Entry point for launching an IPython kernel.\n",
      "/usr/local/lib/python3.5/dist-packages/ipykernel_launcher.py:2: UserWarning: Boolean Series key will be reindexed to match DataFrame index.\n",
      "  \n",
      "/usr/local/lib/python3.5/dist-packages/ipykernel_launcher.py:3: UserWarning: Boolean Series key will be reindexed to match DataFrame index.\n",
      "  This is separate from the ipykernel package so we can avoid doing imports until\n"
     ]
    }
   ],
   "source": [
    "train_agree = train[train['label'] == train['train_pred']][train['label'] == train['test_pred']][train['label'] == train['byarticle_pred']].drop('bias', axis=1)\n",
    "test_agree = test[test['label'] == test['train_pred']][test['label'] == test['test_pred']][test['label'] == test['byarticle_pred']].drop('bias', axis=1)\n",
    "byarticle_agree = byarticle[byarticle['label'] == byarticle['train_pred']][byarticle['label'] == byarticle['test_pred']][byarticle['label'] == byarticle['byarticle_pred']]"
   ]
  },
  {
   "cell_type": "code",
   "execution_count": 97,
   "metadata": {},
   "outputs": [
    {
     "name": "stdout",
     "output_type": "stream",
     "text": [
      "1\tAgainst the backdrop of an increasingly polarized political landscape, one organization is issuing a\n",
      "0\tLINCOLN, Neb. (AP) _ The winning numbers in Tuesday evening’s drawing of the “2 By 2” game were: Red\n",
      "0\tThe Centers for Medicare and Medicaid Services said Friday after markets closed that it expects cost\n",
      "0\tWildlife removal experts discovered a large venomous rattlesnake underneath a home in Louisiana. Gul\n",
      "0\tJust touch the stamp with your finger, and the heat transforms the image of the blacked-out sun into\n",
      "1\tEmpires die. Some abruptly, by cataclysmic defeat and destruction; most in stages, over years, decad\n",
      "0\tLAS CRUCES, N.M. — Authorities have identified an elderly couple who were found shot to death inside\n",
      "1\tGoogle Inc's posted a better-than-expected quarterly profit for the first time in the last six quart\n",
      "0\tCONCORD, N.H. (AP) _ The winning numbers in Saturday evening's drawing of the \"Megabucks Plus\" game \n",
      "1\tIn this segment, they discuss a nonfamous fellow, DuPont employee William Kennedy, who -- as sometim\n",
      "0\tCalifornia won national applause in September when Attorney General Kamala Harris announced the impl\n",
      "0\t  Lt. Gov. Diane Denish was the only member of the Board of Finance to vote against the budget cuts,\n",
      "0\tPoland’s lawmakers have voted to approve the nation’s budget for 2018 that assumes 3.8 percent econo\n",
      "1\tCarMax (NYSE:KMX) reported on Tuesday stronger-than-expected earnings for the second quarter, as the\n",
      "1\tIndustrial output in Germany declined more than expected in September but analysts said it was likel\n",
      "1\tMay 1966. Mitt Romney is just finishing his first—and only—year at Stanford. I’m a 32-year-old ex-St\n",
      "1\t Image source: Intel. After microprocessor giant Intel (NASDAQ: INTC) reported its financial results\n",
      "0\tInvesting.com – The People’s Bank of China set the yuan mid-point at 6.5530 against the dollar on Tu\n",
      "0\t— N.M. Old Timer MO NOT AN ATTORNEY is definitely not an attorney. He is far too busy making sure th\n",
      "0\tPublished time: 28 Sep, 2017 18:05 An Italian bride has ditched the traditional two-person approach \n",
      "1\t President Barack Obama spoke to the nation Monday from the White House, addressing glitches with th\n",
      "1\tIn video captured outside a rally in Henagar, Alabama on Monday night, a campaign staffer for embatt\n",
      "1\tOn Wednesday morning, Democratic presidential candidate Hillary Clinton told Clinton-enthusiast and \n",
      "0\tIn a sneak preview of the 2014 campaign, a GOP ad in North Carolina says Rep. Mike McIntyre “voted t\n",
      "1\tSen. Dick Lugar (R-Ind.) Flickr Centrism and bipartisan consensus often are unduly worshiped by Wash\n",
      "1\t  Hillary Clinton. ( Roger H. Goun / CC BY 2.0) One of Hillary Clinton’s major donors is former Gold\n",
      "1\tA combative President Trump launched an urgent, last-ditch bid Wednesday to revive an Obamacare repe\n",
      "1\t Oil rose on Monday after Canada's most destructive wildfire in recent memory knocked out over a mil\n",
      "0\tCINCINNATI — A white university police officer who fatally shot an unarmed black motorist during a t\n",
      "0\tOne afternoon in September, immigration activists and religious leaders joined politicians standing \n",
      "0\tCAIRO — An Egyptian court sentenced former president Hosni Mubarak and his two sons to three years i\n",
      "1\tDid you ever demand any answers? The who, the what or the reason why? Did you ever question the setu\n",
      "0\tBahrain faces heavy criticism for its crackdown on the uprising that began last year. It was forced \n",
      "0\tA high-mountain yurt for hikers wanting to escape the heat of lower elevations is available for the \n",
      "0\tAshland Johnson (Washington Blade photo by Michael Key) Name: Ashland Johnson Age: 32 Occupation: Ci\n",
      "1\tSometimes we at Crooks and Liars have trouble writing up a video. This is one of those times. Maybe \n",
      "0\tTamer, or at least lower-decibel, fun was on tap at an Outdoor Fest in Helena, Mont. Along with kaya\n",
      "0\tWASHINGTON — Donald Trump’s bull-in-a-china-shop approach to the presidency hasn’t helped him notch \n",
      "0\tALBUQUERQUE, N.M. — The Town of Taos council has unanimously approved rewriting the municipality’s p\n",
      "0\tcourtesy of bob walker'ap photoA custom stairway in the inside of the home of Bob Walker and Frances\n",
      "0\tRUIDOSO, N.M. — The State Land Office has negotiated a 25-year lease with the village of Ruidoso tha\n",
      "0\t By DUAA ELDEIB Columbia MissourianMarch 16, 2003   “I really believe this is our last chance to dem\n",
      "1\tEver since President Trump nominated Neil Gorsuch to replace Justice Scalia, the Democrats have lost\n",
      "0\tVirginia Baptists will gather in Roanoke Nov. 11-12 for Connect:2008, the annual meeting of the Bapt\n",
      "1\t The U.S. Census Bureau regularly conducts a survey of income and program participation that offers \n",
      "1\tWhen it comes to commodities, plenty of investors are familiar with gold and oil, but there are time\n",
      "0\t“We’re definitely going to have some more sure conclusions than before,” said Melissa May, a San Jua\n",
      "0\tThe New York Yankees have chosen Aaron Boone to replace Joe Girardi as their manager, according to m\n",
      "1\tNancy Pelosi can’t even get through a short statement about the attack on a colleague without botchi\n",
      "0\tCommunity colleges are an essential part of San Diego’s success as a city. Students either earn care\n",
      "1\tWhen it comes to how we are insured for our health, there are basically three markets: government (M\n"
     ]
    }
   ],
   "source": [
    "count = 0\n",
    "for idx, row in train_agree.iterrows():\n",
    "    print(str(row['label']) + '\\t' + row['text'][:100])\n",
    "    count += 1\n",
    "    if count > 50:\n",
    "        break"
   ]
  },
  {
   "cell_type": "code",
   "execution_count": 98,
   "metadata": {
    "collapsed": true
   },
   "outputs": [],
   "source": [
    "train_agree.to_csv('df/train_agree_df.csv', index=False)\n",
    "test_agree.to_csv('df/test_agree_df.csv', index=False)\n",
    "byarticle_agree.to_csv('df/byarticle_agree_df.csv', index=False)"
   ]
  },
  {
   "cell_type": "code",
   "execution_count": 6,
   "metadata": {},
   "outputs": [
    {
     "name": "stderr",
     "output_type": "stream",
     "text": [
      "/usr/local/lib/python3.5/dist-packages/ipykernel_launcher.py:1: UserWarning: Boolean Series key will be reindexed to match DataFrame index.\n",
      "  \"\"\"Entry point for launching an IPython kernel.\n",
      "/usr/local/lib/python3.5/dist-packages/ipykernel_launcher.py:2: UserWarning: Boolean Series key will be reindexed to match DataFrame index.\n",
      "  \n"
     ]
    }
   ],
   "source": [
    "train_agree = train[train['label'] == train['train_pred']][train['label'] == train['test_pred']].drop('bias', axis=1)\n",
    "test_agree = test[test['label'] == test['train_pred']][test['label'] == test['test_pred']].drop('bias', axis=1)"
   ]
  },
  {
   "cell_type": "code",
   "execution_count": 2,
   "metadata": {
    "collapsed": true
   },
   "outputs": [],
   "source": [
    "train_agree = pd.read_csv('data/agree/train_agree_df.csv')\n",
    "test_agree = pd.read_csv('data/agree/test_agree_df.csv')\n",
    "byarticle_agree = pd.read_csv('data/agree/byarticle_agree_df.csv')"
   ]
  },
  {
   "cell_type": "code",
   "execution_count": 4,
   "metadata": {},
   "outputs": [
    {
     "name": "stdout",
     "output_type": "stream",
     "text": [
      "133868\n",
      "46449\n"
     ]
    }
   ],
   "source": [
    "print(len(train_agree))\n",
    "print(sum(train_agree.label))"
   ]
  },
  {
   "cell_type": "code",
   "execution_count": 5,
   "metadata": {},
   "outputs": [
    {
     "name": "stdout",
     "output_type": "stream",
     "text": [
      "28048\n",
      "13856\n"
     ]
    }
   ],
   "source": [
    "print(len(test_agree))\n",
    "print(sum(test_agree.label))"
   ]
  },
  {
   "cell_type": "code",
   "execution_count": 6,
   "metadata": {},
   "outputs": [
    {
     "name": "stdout",
     "output_type": "stream",
     "text": [
      "130\n",
      "86\n"
     ]
    }
   ],
   "source": [
    "print(len(byarticle_agree))\n",
    "print(sum(byarticle_agree.label))"
   ]
  },
  {
   "cell_type": "code",
   "execution_count": 7,
   "metadata": {},
   "outputs": [
    {
     "data": {
      "text/plain": [
       "162046"
      ]
     },
     "execution_count": 7,
     "metadata": {},
     "output_type": "execute_result"
    }
   ],
   "source": [
    "133868+28048+130"
   ]
  },
  {
   "cell_type": "code",
   "execution_count": 8,
   "metadata": {},
   "outputs": [
    {
     "data": {
      "text/plain": [
       "60391"
      ]
     },
     "execution_count": 8,
     "metadata": {},
     "output_type": "execute_result"
    }
   ],
   "source": [
    "46449+13856+86"
   ]
  },
  {
   "cell_type": "code",
   "execution_count": 9,
   "metadata": {},
   "outputs": [
    {
     "data": {
      "text/plain": [
       "0.3726781284326673"
      ]
     },
     "execution_count": 9,
     "metadata": {},
     "output_type": "execute_result"
    }
   ],
   "source": [
    "60391/162046"
   ]
  },
  {
   "cell_type": "code",
   "execution_count": null,
   "metadata": {
    "collapsed": true
   },
   "outputs": [],
   "source": []
  }
 ],
 "metadata": {
  "kernelspec": {
   "display_name": "Python 3",
   "language": "python",
   "name": "python3"
  },
  "language_info": {
   "codemirror_mode": {
    "name": "ipython",
    "version": 3
   },
   "file_extension": ".py",
   "mimetype": "text/x-python",
   "name": "python",
   "nbconvert_exporter": "python",
   "pygments_lexer": "ipython3",
   "version": "3.6.3"
  }
 },
 "nbformat": 4,
 "nbformat_minor": 2
}
