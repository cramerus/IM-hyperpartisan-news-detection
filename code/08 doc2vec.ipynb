{
 "cells": [
  {
   "cell_type": "code",
   "execution_count": 106,
   "metadata": {},
   "outputs": [
    {
     "name": "stderr",
     "output_type": "stream",
     "text": [
      "Using TensorFlow backend.\n"
     ]
    }
   ],
   "source": [
    "from gensim.utils import simple_preprocess\n",
    "from gensim.models.doc2vec import Doc2Vec, TaggedDocument\n",
    "from gensim.test.utils import get_tmpfile\n",
    "import numpy as np\n",
    "import pandas as pd\n",
    "import pickle\n",
    "import keras\n",
    "from tqdm import tqdm_notebook\n",
    "from sklearn.preprocessing import OneHotEncoder\n",
    "from sklearn.linear_model import LogisticRegression"
   ]
  },
  {
   "cell_type": "markdown",
   "metadata": {},
   "source": [
    "This notebook was used to train a doc2vec model using gensim, transform all texts into document vectors, and then use Keras to build a simple feedforward neural network to use on the datasets."
   ]
  },
  {
   "cell_type": "code",
   "execution_count": 2,
   "metadata": {},
   "outputs": [
    {
     "name": "stdout",
     "output_type": "stream",
     "text": [
      "/data/hyperpartisan-news-detection\n"
     ]
    }
   ],
   "source": [
    "%cd '/data/hyperpartisan-news-detection'"
   ]
  },
  {
   "cell_type": "markdown",
   "metadata": {},
   "source": [
    "# train doc2vec model"
   ]
  },
  {
   "cell_type": "code",
   "execution_count": 3,
   "metadata": {
    "collapsed": true
   },
   "outputs": [],
   "source": [
    "train = pd.read_csv('df/train_df.csv')['text'].dropna()\n",
    "test = pd.read_csv('df/test_df.csv')['text'].dropna()\n",
    "byarticle = pd.read_csv('df/byarticle_df.csv')['text'].dropna()"
   ]
  },
  {
   "cell_type": "code",
   "execution_count": 4,
   "metadata": {
    "collapsed": true
   },
   "outputs": [],
   "source": [
    "train = [TaggedDocument(simple_preprocess(line), [i]) for i, line in enumerate(train)]\n",
    "test = [TaggedDocument(simple_preprocess(line), [i]) for i, line in enumerate(test)]\n",
    "byarticle = [simple_preprocess(line) for line in byarticle]"
   ]
  },
  {
   "cell_type": "code",
   "execution_count": 5,
   "metadata": {
    "collapsed": true
   },
   "outputs": [],
   "source": [
    "model = Doc2Vec(vector_size=50, min_count=5, epochs=10)"
   ]
  },
  {
   "cell_type": "code",
   "execution_count": 6,
   "metadata": {
    "collapsed": true
   },
   "outputs": [],
   "source": [
    "model.build_vocab(train)"
   ]
  },
  {
   "cell_type": "code",
   "execution_count": 7,
   "metadata": {},
   "outputs": [
    {
     "name": "stdout",
     "output_type": "stream",
     "text": [
      "CPU times: user 2h 46min 24s, sys: 3min 24s, total: 2h 49min 49s\n",
      "Wall time: 1h 7min 18s\n"
     ]
    }
   ],
   "source": [
    "%time model.train(train, total_examples=model.corpus_count, epochs=model.epochs)"
   ]
  },
  {
   "cell_type": "code",
   "execution_count": 9,
   "metadata": {
    "collapsed": true
   },
   "outputs": [],
   "source": [
    "fname = get_tmpfile(\"doc2vec_model\")\n",
    "model.save(fname)\n",
    "#model = Doc2Vec.load(fname)  # you can continue training with the loaded model!\n",
    "#model.delete_temporary_training_data(keep_doctags_vectors=True, keep_inference=True)"
   ]
  },
  {
   "cell_type": "code",
   "execution_count": 15,
   "metadata": {
    "collapsed": true
   },
   "outputs": [],
   "source": [
    "model.save('doc2vec_model')"
   ]
  },
  {
   "cell_type": "markdown",
   "metadata": {},
   "source": [
    "# convert all docs to vectors and save"
   ]
  },
  {
   "cell_type": "code",
   "execution_count": 3,
   "metadata": {
    "collapsed": true
   },
   "outputs": [],
   "source": [
    "fname = 'doc2vec_model'\n",
    "model_load = Doc2Vec.load(fname) "
   ]
  },
  {
   "cell_type": "code",
   "execution_count": 24,
   "metadata": {
    "collapsed": true
   },
   "outputs": [],
   "source": [
    "train = pd.read_csv('df/train_df.csv')\n",
    "test = pd.read_csv('df/test_df.csv')\n",
    "byarticle = pd.read_csv('df/byarticle_df.csv')"
   ]
  },
  {
   "cell_type": "code",
   "execution_count": 25,
   "metadata": {
    "collapsed": true
   },
   "outputs": [],
   "source": [
    "def add_col(df):\n",
    "    df['doc2vec'] = np.nan\n",
    "    df['doc2vec'] = df['doc2vec'].astype(object)\n",
    "    for idx, row in tqdm_notebook(df.iterrows(), total = df.shape[0]):\n",
    "        if pd.isnull(row['text']):\n",
    "            continue\n",
    "        else:\n",
    "            preprocessed = simple_preprocess(row['text'])\n",
    "        df.at[idx, 'doc2vec'] = model_load.infer_vector(preprocessed)\n",
    "    return df"
   ]
  },
  {
   "cell_type": "code",
   "execution_count": 26,
   "metadata": {},
   "outputs": [
    {
     "data": {
      "application/vnd.jupyter.widget-view+json": {
       "model_id": "221844964dde468cab3c67f1ebbcc70e",
       "version_major": 2,
       "version_minor": 0
      },
      "text/plain": [
       "HBox(children=(IntProgress(value=0, max=645), HTML(value='')))"
      ]
     },
     "metadata": {},
     "output_type": "display_data"
    },
    {
     "name": "stdout",
     "output_type": "stream",
     "text": [
      "\n"
     ]
    }
   ],
   "source": [
    "byarticle = add_col(byarticle)"
   ]
  },
  {
   "cell_type": "code",
   "execution_count": 28,
   "metadata": {},
   "outputs": [
    {
     "data": {
      "application/vnd.jupyter.widget-view+json": {
       "model_id": "23bdc621250c4f7d82c9016f282b8b9f",
       "version_major": 2,
       "version_minor": 0
      },
      "text/plain": [
       "HBox(children=(IntProgress(value=0, max=150000), HTML(value='')))"
      ]
     },
     "metadata": {},
     "output_type": "display_data"
    },
    {
     "name": "stdout",
     "output_type": "stream",
     "text": [
      "\n"
     ]
    }
   ],
   "source": [
    "test = add_col(test)"
   ]
  },
  {
   "cell_type": "code",
   "execution_count": 72,
   "metadata": {},
   "outputs": [
    {
     "data": {
      "application/vnd.jupyter.widget-view+json": {
       "model_id": "7fec8f8c989c4923bb2b1ba75e710302",
       "version_major": 2,
       "version_minor": 0
      },
      "text/plain": [
       "HBox(children=(IntProgress(value=0, max=600000), HTML(value='')))"
      ]
     },
     "metadata": {},
     "output_type": "display_data"
    },
    {
     "name": "stdout",
     "output_type": "stream",
     "text": [
      "\n"
     ]
    }
   ],
   "source": [
    "train = add_col(train)"
   ]
  },
  {
   "cell_type": "code",
   "execution_count": 98,
   "metadata": {
    "collapsed": true
   },
   "outputs": [],
   "source": [
    "def update_df(df):\n",
    "    # need to have features in different columns, not as a list because pd.to_csv will save it as a string\n",
    "    features = df['doc2vec'].apply(pd.Series)\n",
    "    return pd.concat([df.drop('doc2vec', axis='columns'), features], axis=1)"
   ]
  },
  {
   "cell_type": "code",
   "execution_count": 102,
   "metadata": {
    "collapsed": true
   },
   "outputs": [],
   "source": [
    "byarticle = update_df(byarticle)\n",
    "test = update_df(test)\n",
    "train = update_df(train)"
   ]
  },
  {
   "cell_type": "code",
   "execution_count": 104,
   "metadata": {
    "collapsed": true
   },
   "outputs": [],
   "source": [
    "train.to_csv('df/train_df_d2v.csv', index=False)\n",
    "test.to_csv('df/test_df_d2v.csv', index=False)\n",
    "byarticle.to_csv('df/byarticle_df_d2v.csv', index=False)"
   ]
  },
  {
   "cell_type": "markdown",
   "metadata": {},
   "source": [
    "# test with logistic regression"
   ]
  },
  {
   "cell_type": "code",
   "execution_count": 128,
   "metadata": {
    "collapsed": true
   },
   "outputs": [],
   "source": [
    "# prepare dataset\n",
    "train = pd.read_csv('df/train_df_d2v.csv').dropna()\n",
    "test = pd.read_csv('df/test_df_d2v.csv').dropna()\n",
    "byarticle = pd.read_csv('df/byarticle_df_d2v.csv').dropna()"
   ]
  },
  {
   "cell_type": "code",
   "execution_count": 129,
   "metadata": {},
   "outputs": [
    {
     "data": {
      "text/html": [
       "<div>\n",
       "<style scoped>\n",
       "    .dataframe tbody tr th:only-of-type {\n",
       "        vertical-align: middle;\n",
       "    }\n",
       "\n",
       "    .dataframe tbody tr th {\n",
       "        vertical-align: top;\n",
       "    }\n",
       "\n",
       "    .dataframe thead th {\n",
       "        text-align: right;\n",
       "    }\n",
       "</style>\n",
       "<table border=\"1\" class=\"dataframe\">\n",
       "  <thead>\n",
       "    <tr style=\"text-align: right;\">\n",
       "      <th></th>\n",
       "      <th>0</th>\n",
       "      <th>1</th>\n",
       "      <th>2</th>\n",
       "      <th>3</th>\n",
       "      <th>4</th>\n",
       "      <th>5</th>\n",
       "      <th>6</th>\n",
       "      <th>7</th>\n",
       "      <th>8</th>\n",
       "      <th>9</th>\n",
       "      <th>...</th>\n",
       "      <th>40</th>\n",
       "      <th>41</th>\n",
       "      <th>42</th>\n",
       "      <th>43</th>\n",
       "      <th>44</th>\n",
       "      <th>45</th>\n",
       "      <th>46</th>\n",
       "      <th>47</th>\n",
       "      <th>48</th>\n",
       "      <th>49</th>\n",
       "    </tr>\n",
       "  </thead>\n",
       "  <tbody>\n",
       "    <tr>\n",
       "      <th>0</th>\n",
       "      <td>-1.716436</td>\n",
       "      <td>0.706684</td>\n",
       "      <td>-0.086777</td>\n",
       "      <td>-0.524081</td>\n",
       "      <td>-0.114935</td>\n",
       "      <td>0.241039</td>\n",
       "      <td>0.197158</td>\n",
       "      <td>-0.156622</td>\n",
       "      <td>0.129688</td>\n",
       "      <td>1.137669</td>\n",
       "      <td>...</td>\n",
       "      <td>0.447064</td>\n",
       "      <td>-0.315349</td>\n",
       "      <td>0.397872</td>\n",
       "      <td>0.960722</td>\n",
       "      <td>1.146916</td>\n",
       "      <td>-0.697390</td>\n",
       "      <td>-0.575663</td>\n",
       "      <td>0.195232</td>\n",
       "      <td>-0.529706</td>\n",
       "      <td>-0.722719</td>\n",
       "    </tr>\n",
       "    <tr>\n",
       "      <th>1</th>\n",
       "      <td>-0.353557</td>\n",
       "      <td>0.020375</td>\n",
       "      <td>1.060340</td>\n",
       "      <td>-0.364510</td>\n",
       "      <td>-0.069735</td>\n",
       "      <td>1.911804</td>\n",
       "      <td>0.378816</td>\n",
       "      <td>0.590775</td>\n",
       "      <td>0.415128</td>\n",
       "      <td>1.305202</td>\n",
       "      <td>...</td>\n",
       "      <td>-1.069766</td>\n",
       "      <td>0.143367</td>\n",
       "      <td>0.364875</td>\n",
       "      <td>0.434790</td>\n",
       "      <td>0.562769</td>\n",
       "      <td>0.327206</td>\n",
       "      <td>-0.244797</td>\n",
       "      <td>1.245764</td>\n",
       "      <td>-0.053976</td>\n",
       "      <td>0.403655</td>\n",
       "    </tr>\n",
       "    <tr>\n",
       "      <th>2</th>\n",
       "      <td>-0.348614</td>\n",
       "      <td>0.729325</td>\n",
       "      <td>0.362333</td>\n",
       "      <td>-0.658784</td>\n",
       "      <td>-0.986217</td>\n",
       "      <td>1.053551</td>\n",
       "      <td>1.782581</td>\n",
       "      <td>0.894405</td>\n",
       "      <td>0.189247</td>\n",
       "      <td>0.883016</td>\n",
       "      <td>...</td>\n",
       "      <td>-0.028958</td>\n",
       "      <td>0.135226</td>\n",
       "      <td>0.256453</td>\n",
       "      <td>1.278639</td>\n",
       "      <td>0.237575</td>\n",
       "      <td>-0.361848</td>\n",
       "      <td>-0.707730</td>\n",
       "      <td>0.381473</td>\n",
       "      <td>-0.580781</td>\n",
       "      <td>1.007206</td>\n",
       "    </tr>\n",
       "    <tr>\n",
       "      <th>3</th>\n",
       "      <td>-0.342161</td>\n",
       "      <td>1.712023</td>\n",
       "      <td>-0.156347</td>\n",
       "      <td>-0.343225</td>\n",
       "      <td>-0.441173</td>\n",
       "      <td>0.518577</td>\n",
       "      <td>-0.033561</td>\n",
       "      <td>0.812273</td>\n",
       "      <td>-0.518142</td>\n",
       "      <td>2.251147</td>\n",
       "      <td>...</td>\n",
       "      <td>-1.381582</td>\n",
       "      <td>1.078593</td>\n",
       "      <td>0.525991</td>\n",
       "      <td>0.870580</td>\n",
       "      <td>-0.732706</td>\n",
       "      <td>-1.782752</td>\n",
       "      <td>0.578307</td>\n",
       "      <td>1.085978</td>\n",
       "      <td>0.937498</td>\n",
       "      <td>0.365913</td>\n",
       "    </tr>\n",
       "    <tr>\n",
       "      <th>4</th>\n",
       "      <td>1.347809</td>\n",
       "      <td>-1.603338</td>\n",
       "      <td>-1.083810</td>\n",
       "      <td>0.831758</td>\n",
       "      <td>0.589770</td>\n",
       "      <td>0.247571</td>\n",
       "      <td>-0.950736</td>\n",
       "      <td>-0.313260</td>\n",
       "      <td>0.593456</td>\n",
       "      <td>-1.296615</td>\n",
       "      <td>...</td>\n",
       "      <td>0.936097</td>\n",
       "      <td>0.240834</td>\n",
       "      <td>1.035502</td>\n",
       "      <td>-0.200840</td>\n",
       "      <td>0.024016</td>\n",
       "      <td>-0.457281</td>\n",
       "      <td>0.745475</td>\n",
       "      <td>-1.427883</td>\n",
       "      <td>-2.120091</td>\n",
       "      <td>0.455509</td>\n",
       "    </tr>\n",
       "  </tbody>\n",
       "</table>\n",
       "<p>5 rows × 50 columns</p>\n",
       "</div>"
      ],
      "text/plain": [
       "          0         1         2         3         4         5         6  \\\n",
       "0 -1.716436  0.706684 -0.086777 -0.524081 -0.114935  0.241039  0.197158   \n",
       "1 -0.353557  0.020375  1.060340 -0.364510 -0.069735  1.911804  0.378816   \n",
       "2 -0.348614  0.729325  0.362333 -0.658784 -0.986217  1.053551  1.782581   \n",
       "3 -0.342161  1.712023 -0.156347 -0.343225 -0.441173  0.518577 -0.033561   \n",
       "4  1.347809 -1.603338 -1.083810  0.831758  0.589770  0.247571 -0.950736   \n",
       "\n",
       "          7         8         9    ...           40        41        42  \\\n",
       "0 -0.156622  0.129688  1.137669    ...     0.447064 -0.315349  0.397872   \n",
       "1  0.590775  0.415128  1.305202    ...    -1.069766  0.143367  0.364875   \n",
       "2  0.894405  0.189247  0.883016    ...    -0.028958  0.135226  0.256453   \n",
       "3  0.812273 -0.518142  2.251147    ...    -1.381582  1.078593  0.525991   \n",
       "4 -0.313260  0.593456 -1.296615    ...     0.936097  0.240834  1.035502   \n",
       "\n",
       "         43        44        45        46        47        48        49  \n",
       "0  0.960722  1.146916 -0.697390 -0.575663  0.195232 -0.529706 -0.722719  \n",
       "1  0.434790  0.562769  0.327206 -0.244797  1.245764 -0.053976  0.403655  \n",
       "2  1.278639  0.237575 -0.361848 -0.707730  0.381473 -0.580781  1.007206  \n",
       "3  0.870580 -0.732706 -1.782752  0.578307  1.085978  0.937498  0.365913  \n",
       "4 -0.200840  0.024016 -0.457281  0.745475 -1.427883 -2.120091  0.455509  \n",
       "\n",
       "[5 rows x 50 columns]"
      ]
     },
     "execution_count": 129,
     "metadata": {},
     "output_type": "execute_result"
    }
   ],
   "source": [
    "train[train.columns[4:]].head()"
   ]
  },
  {
   "cell_type": "code",
   "execution_count": 130,
   "metadata": {},
   "outputs": [
    {
     "name": "stderr",
     "output_type": "stream",
     "text": [
      "/home/users/rcramerus/.local/lib/python3.5/site-packages/sklearn/linear_model/logistic.py:433: FutureWarning: Default solver will be changed to 'lbfgs' in 0.22. Specify a solver to silence this warning.\n",
      "  FutureWarning)\n"
     ]
    },
    {
     "name": "stdout",
     "output_type": "stream",
     "text": [
      "[LibLinear]byarticle score: \n",
      "0.5736434108527132\n",
      "train score: \n",
      "0.7607104647275159\n",
      "test score: \n",
      "0.5513124931924627\n"
     ]
    }
   ],
   "source": [
    "clf = LogisticRegression(verbose=1)\n",
    "clf.fit(train[train.columns[4:]], train['label'])\n",
    "\n",
    "print('byarticle score: ')\n",
    "print(clf.score(byarticle[byarticle.columns[3:]], byarticle['label']))\n",
    "print('train score: ')\n",
    "print(clf.score(train[train.columns[4:]], train['label']))\n",
    "print('test score: ')\n",
    "print(clf.score(test[test.columns[4:]], test['label']))"
   ]
  },
  {
   "cell_type": "markdown",
   "metadata": {},
   "source": [
    "# Keras model"
   ]
  },
  {
   "cell_type": "code",
   "execution_count": 132,
   "metadata": {
    "collapsed": true
   },
   "outputs": [],
   "source": [
    "from keras.models import Sequential\n",
    "from keras.layers import Dense, Dropout"
   ]
  },
  {
   "cell_type": "code",
   "execution_count": 133,
   "metadata": {
    "collapsed": true
   },
   "outputs": [],
   "source": [
    "seed = 7\n",
    "np.random.seed(seed)"
   ]
  },
  {
   "cell_type": "code",
   "execution_count": 136,
   "metadata": {},
   "outputs": [
    {
     "name": "stdout",
     "output_type": "stream",
     "text": [
      "Train on 598200 samples, validate on 137715 samples\n",
      "Epoch 1/5\n",
      " - 77s - loss: 0.4354 - acc: 0.7962 - val_loss: 0.8469 - val_acc: 0.5572\n",
      "Epoch 2/5\n",
      " - 76s - loss: 0.4173 - acc: 0.8062 - val_loss: 0.8997 - val_acc: 0.5482\n",
      "Epoch 3/5\n",
      " - 75s - loss: 0.4122 - acc: 0.8092 - val_loss: 0.8266 - val_acc: 0.5688\n",
      "Epoch 4/5\n",
      " - 76s - loss: 0.4091 - acc: 0.8107 - val_loss: 0.8715 - val_acc: 0.5529\n",
      "Epoch 5/5\n",
      " - 77s - loss: 0.4068 - acc: 0.8120 - val_loss: 0.8900 - val_acc: 0.5575\n"
     ]
    },
    {
     "data": {
      "text/plain": [
       "<keras.callbacks.History at 0x7f092425a2b0>"
      ]
     },
     "execution_count": 136,
     "metadata": {},
     "output_type": "execute_result"
    }
   ],
   "source": [
    "# Model example 1: 1 hidden layer with 64 hidden nodes\n",
    "model_d2v_01 = Sequential()\n",
    "model_d2v_01.add(Dense(64, activation='relu', input_dim=50))\n",
    "model_d2v_01.add(Dense(1, activation='sigmoid'))\n",
    "model_d2v_01.compile(optimizer='adam',\n",
    "              loss='binary_crossentropy',\n",
    "              metrics=['accuracy'])\n",
    "\n",
    "model_d2v_01.fit(train[train.columns[4:]], train['label'],\n",
    "                 validation_data=(test[test.columns[4:]], test['label']),\n",
    "                 epochs=5, batch_size=32, verbose=2)"
   ]
  },
  {
   "cell_type": "code",
   "execution_count": 139,
   "metadata": {},
   "outputs": [
    {
     "name": "stdout",
     "output_type": "stream",
     "text": [
      "645/645 [==============================] - 0s 65us/step\n"
     ]
    },
    {
     "data": {
      "text/plain": [
       "[0.9181516446808512, 0.5333333335181539]"
      ]
     },
     "execution_count": 139,
     "metadata": {},
     "output_type": "execute_result"
    }
   ],
   "source": [
    "model_d2v_01.evaluate(x=byarticle[byarticle.columns[3:]], y=byarticle['label'])"
   ]
  }
 ],
 "metadata": {
  "kernelspec": {
   "display_name": "Python 3",
   "language": "python",
   "name": "python3"
  },
  "language_info": {
   "codemirror_mode": {
    "name": "ipython",
    "version": 3
   },
   "file_extension": ".py",
   "mimetype": "text/x-python",
   "name": "python",
   "nbconvert_exporter": "python",
   "pygments_lexer": "ipython3",
   "version": "3.6.6"
  }
 },
 "nbformat": 4,
 "nbformat_minor": 2
}
