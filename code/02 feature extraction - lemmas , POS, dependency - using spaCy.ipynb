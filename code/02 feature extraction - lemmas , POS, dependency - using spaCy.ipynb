{
 "cells": [
  {
   "cell_type": "code",
   "execution_count": 2,
   "metadata": {},
   "outputs": [
    {
     "data": {
      "text/plain": [
       "131072"
      ]
     },
     "execution_count": 2,
     "metadata": {},
     "output_type": "execute_result"
    }
   ],
   "source": [
    "import pandas as pd\n",
    "import spacy\n",
    "from tqdm import tqdm_notebook as tqdm\n",
    "import csv\n",
    "\n",
    "csv.field_size_limit(100000000)"
   ]
  },
  {
   "cell_type": "markdown",
   "metadata": {},
   "source": [
    "# Read csvs from before."
   ]
  },
  {
   "cell_type": "code",
   "execution_count": 3,
   "metadata": {
    "collapsed": true
   },
   "outputs": [],
   "source": [
    "test_df = pd.read_csv('data/test_df.csv', encoding='utf8', engine='python') "
   ]
  },
  {
   "cell_type": "code",
   "execution_count": 3,
   "metadata": {
    "collapsed": true
   },
   "outputs": [],
   "source": [
    "# Training dataset is too large - working in chunks.\n",
    "train_df = pd.read_csv('data/train_df.csv', encoding='utf8', engine='python') "
   ]
  },
  {
   "cell_type": "code",
   "execution_count": 9,
   "metadata": {
    "collapsed": true
   },
   "outputs": [],
   "source": [
    "byarticle_df = pd.read_csv('byarticle_df.csv', encoding='utf8', engine='python')"
   ]
  },
  {
   "cell_type": "markdown",
   "metadata": {},
   "source": [
    "# Lemmatize using spaCy"
   ]
  },
  {
   "cell_type": "markdown",
   "metadata": {},
   "source": [
    "All three given datasets are lemmatized, tagged and saved into new pandas datasets."
   ]
  },
  {
   "cell_type": "code",
   "execution_count": 4,
   "metadata": {
    "collapsed": true
   },
   "outputs": [],
   "source": [
    "# Handle NaN\n",
    "\n",
    "def check_str(text):\n",
    "    if type(text) != str:\n",
    "        print(text)\n",
    "        return ''\n",
    "    else:\n",
    "        return text\n",
    "\n",
    "#test_df['text'] = test_df['text'].apply(check_str)"
   ]
  },
  {
   "cell_type": "code",
   "execution_count": 5,
   "metadata": {
    "collapsed": true
   },
   "outputs": [],
   "source": [
    "nlp = spacy.load('en', disable=['ner','textcat']) # skipped NER, could come back"
   ]
  },
  {
   "cell_type": "code",
   "execution_count": 7,
   "metadata": {
    "collapsed": true
   },
   "outputs": [],
   "source": [
    "def parse(df, col):\n",
    "    lemma = []\n",
    "    pos = []\n",
    "    tag = []\n",
    "    dep = []\n",
    "    for doc in tqdm(nlp.pipe(df[col], batch_size=50, n_threads=3)):\n",
    "        lemma.append(tuple([n.lemma_ for n in doc]))\n",
    "        pos.append(tuple([n.pos_ for n in doc]))\n",
    "        tag.append(tuple([n.tag_ for n in doc]))\n",
    "        dep.append(tuple([n.dep_ for n in doc]))\n",
    "        \n",
    "    df[col + '_lemmas'] = lemma\n",
    "    df[col + '_pos'] = pos\n",
    "    df[col + '_tags'] = tag\n",
    "    df[col + '_deps'] = dep\n",
    "    \n",
    "    return df"
   ]
  },
  {
   "cell_type": "code",
   "execution_count": 23,
   "metadata": {
    "collapsed": true
   },
   "outputs": [
    {
     "ename": "KeyError",
     "evalue": "\"['text'] not found in axis\"",
     "output_type": "error",
     "traceback": [
      "\u001b[1;31m---------------------------------------------------------------------------\u001b[0m",
      "\u001b[1;31mKeyError\u001b[0m                                  Traceback (most recent call last)",
      "\u001b[1;32m<ipython-input-23-db91cfdafdde>\u001b[0m in \u001b[0;36m<module>\u001b[1;34m()\u001b[0m\n\u001b[0;32m      1\u001b[0m \u001b[0mtest_df\u001b[0m \u001b[1;33m=\u001b[0m \u001b[0mtest_df\u001b[0m\u001b[1;33m.\u001b[0m\u001b[0mdrop\u001b[0m\u001b[1;33m(\u001b[0m\u001b[0mcolumns\u001b[0m\u001b[1;33m=\u001b[0m\u001b[1;33m[\u001b[0m\u001b[1;34m'text'\u001b[0m\u001b[1;33m]\u001b[0m\u001b[1;33m)\u001b[0m\u001b[1;33m\u001b[0m\u001b[0m\n\u001b[1;32m----> 2\u001b[1;33m \u001b[0mtrain_df\u001b[0m \u001b[1;33m=\u001b[0m \u001b[0mtrain_df\u001b[0m\u001b[1;33m.\u001b[0m\u001b[0mdrop\u001b[0m\u001b[1;33m(\u001b[0m\u001b[0mcolumns\u001b[0m\u001b[1;33m=\u001b[0m\u001b[1;33m[\u001b[0m\u001b[1;34m'text'\u001b[0m\u001b[1;33m]\u001b[0m\u001b[1;33m)\u001b[0m\u001b[1;33m\u001b[0m\u001b[0m\n\u001b[0m",
      "\u001b[1;32mD:\\Anaconda\\lib\\site-packages\\pandas\\core\\frame.py\u001b[0m in \u001b[0;36mdrop\u001b[1;34m(self, labels, axis, index, columns, level, inplace, errors)\u001b[0m\n\u001b[0;32m   3695\u001b[0m                                            \u001b[0mindex\u001b[0m\u001b[1;33m=\u001b[0m\u001b[0mindex\u001b[0m\u001b[1;33m,\u001b[0m \u001b[0mcolumns\u001b[0m\u001b[1;33m=\u001b[0m\u001b[0mcolumns\u001b[0m\u001b[1;33m,\u001b[0m\u001b[1;33m\u001b[0m\u001b[0m\n\u001b[0;32m   3696\u001b[0m                                            \u001b[0mlevel\u001b[0m\u001b[1;33m=\u001b[0m\u001b[0mlevel\u001b[0m\u001b[1;33m,\u001b[0m \u001b[0minplace\u001b[0m\u001b[1;33m=\u001b[0m\u001b[0minplace\u001b[0m\u001b[1;33m,\u001b[0m\u001b[1;33m\u001b[0m\u001b[0m\n\u001b[1;32m-> 3697\u001b[1;33m                                            errors=errors)\n\u001b[0m\u001b[0;32m   3698\u001b[0m \u001b[1;33m\u001b[0m\u001b[0m\n\u001b[0;32m   3699\u001b[0m     @rewrite_axis_style_signature('mapper', [('copy', True),\n",
      "\u001b[1;32mD:\\Anaconda\\lib\\site-packages\\pandas\\core\\generic.py\u001b[0m in \u001b[0;36mdrop\u001b[1;34m(self, labels, axis, index, columns, level, inplace, errors)\u001b[0m\n\u001b[0;32m   3109\u001b[0m         \u001b[1;32mfor\u001b[0m \u001b[0maxis\u001b[0m\u001b[1;33m,\u001b[0m \u001b[0mlabels\u001b[0m \u001b[1;32min\u001b[0m \u001b[0maxes\u001b[0m\u001b[1;33m.\u001b[0m\u001b[0mitems\u001b[0m\u001b[1;33m(\u001b[0m\u001b[1;33m)\u001b[0m\u001b[1;33m:\u001b[0m\u001b[1;33m\u001b[0m\u001b[0m\n\u001b[0;32m   3110\u001b[0m             \u001b[1;32mif\u001b[0m \u001b[0mlabels\u001b[0m \u001b[1;32mis\u001b[0m \u001b[1;32mnot\u001b[0m \u001b[1;32mNone\u001b[0m\u001b[1;33m:\u001b[0m\u001b[1;33m\u001b[0m\u001b[0m\n\u001b[1;32m-> 3111\u001b[1;33m                 \u001b[0mobj\u001b[0m \u001b[1;33m=\u001b[0m \u001b[0mobj\u001b[0m\u001b[1;33m.\u001b[0m\u001b[0m_drop_axis\u001b[0m\u001b[1;33m(\u001b[0m\u001b[0mlabels\u001b[0m\u001b[1;33m,\u001b[0m \u001b[0maxis\u001b[0m\u001b[1;33m,\u001b[0m \u001b[0mlevel\u001b[0m\u001b[1;33m=\u001b[0m\u001b[0mlevel\u001b[0m\u001b[1;33m,\u001b[0m \u001b[0merrors\u001b[0m\u001b[1;33m=\u001b[0m\u001b[0merrors\u001b[0m\u001b[1;33m)\u001b[0m\u001b[1;33m\u001b[0m\u001b[0m\n\u001b[0m\u001b[0;32m   3112\u001b[0m \u001b[1;33m\u001b[0m\u001b[0m\n\u001b[0;32m   3113\u001b[0m         \u001b[1;32mif\u001b[0m \u001b[0minplace\u001b[0m\u001b[1;33m:\u001b[0m\u001b[1;33m\u001b[0m\u001b[0m\n",
      "\u001b[1;32mD:\\Anaconda\\lib\\site-packages\\pandas\\core\\generic.py\u001b[0m in \u001b[0;36m_drop_axis\u001b[1;34m(self, labels, axis, level, errors)\u001b[0m\n\u001b[0;32m   3141\u001b[0m                 \u001b[0mnew_axis\u001b[0m \u001b[1;33m=\u001b[0m \u001b[0maxis\u001b[0m\u001b[1;33m.\u001b[0m\u001b[0mdrop\u001b[0m\u001b[1;33m(\u001b[0m\u001b[0mlabels\u001b[0m\u001b[1;33m,\u001b[0m \u001b[0mlevel\u001b[0m\u001b[1;33m=\u001b[0m\u001b[0mlevel\u001b[0m\u001b[1;33m,\u001b[0m \u001b[0merrors\u001b[0m\u001b[1;33m=\u001b[0m\u001b[0merrors\u001b[0m\u001b[1;33m)\u001b[0m\u001b[1;33m\u001b[0m\u001b[0m\n\u001b[0;32m   3142\u001b[0m             \u001b[1;32melse\u001b[0m\u001b[1;33m:\u001b[0m\u001b[1;33m\u001b[0m\u001b[0m\n\u001b[1;32m-> 3143\u001b[1;33m                 \u001b[0mnew_axis\u001b[0m \u001b[1;33m=\u001b[0m \u001b[0maxis\u001b[0m\u001b[1;33m.\u001b[0m\u001b[0mdrop\u001b[0m\u001b[1;33m(\u001b[0m\u001b[0mlabels\u001b[0m\u001b[1;33m,\u001b[0m \u001b[0merrors\u001b[0m\u001b[1;33m=\u001b[0m\u001b[0merrors\u001b[0m\u001b[1;33m)\u001b[0m\u001b[1;33m\u001b[0m\u001b[0m\n\u001b[0m\u001b[0;32m   3144\u001b[0m             \u001b[0mresult\u001b[0m \u001b[1;33m=\u001b[0m \u001b[0mself\u001b[0m\u001b[1;33m.\u001b[0m\u001b[0mreindex\u001b[0m\u001b[1;33m(\u001b[0m\u001b[1;33m**\u001b[0m\u001b[1;33m{\u001b[0m\u001b[0maxis_name\u001b[0m\u001b[1;33m:\u001b[0m \u001b[0mnew_axis\u001b[0m\u001b[1;33m}\u001b[0m\u001b[1;33m)\u001b[0m\u001b[1;33m\u001b[0m\u001b[0m\n\u001b[0;32m   3145\u001b[0m \u001b[1;33m\u001b[0m\u001b[0m\n",
      "\u001b[1;32mD:\\Anaconda\\lib\\site-packages\\pandas\\core\\indexes\\base.py\u001b[0m in \u001b[0;36mdrop\u001b[1;34m(self, labels, errors)\u001b[0m\n\u001b[0;32m   4402\u001b[0m             \u001b[1;32mif\u001b[0m \u001b[0merrors\u001b[0m \u001b[1;33m!=\u001b[0m \u001b[1;34m'ignore'\u001b[0m\u001b[1;33m:\u001b[0m\u001b[1;33m\u001b[0m\u001b[0m\n\u001b[0;32m   4403\u001b[0m                 raise KeyError(\n\u001b[1;32m-> 4404\u001b[1;33m                     '{} not found in axis'.format(labels[mask]))\n\u001b[0m\u001b[0;32m   4405\u001b[0m             \u001b[0mindexer\u001b[0m \u001b[1;33m=\u001b[0m \u001b[0mindexer\u001b[0m\u001b[1;33m[\u001b[0m\u001b[1;33m~\u001b[0m\u001b[0mmask\u001b[0m\u001b[1;33m]\u001b[0m\u001b[1;33m\u001b[0m\u001b[0m\n\u001b[0;32m   4406\u001b[0m         \u001b[1;32mreturn\u001b[0m \u001b[0mself\u001b[0m\u001b[1;33m.\u001b[0m\u001b[0mdelete\u001b[0m\u001b[1;33m(\u001b[0m\u001b[0mindexer\u001b[0m\u001b[1;33m)\u001b[0m\u001b[1;33m\u001b[0m\u001b[0m\n",
      "\u001b[1;31mKeyError\u001b[0m: \"['text'] not found in axis\""
     ]
    }
   ],
   "source": [
    "test_df = test_df.drop(columns=['text'])\n",
    "train_df = train_df.drop(columns=['text'])"
   ]
  },
  {
   "cell_type": "code",
   "execution_count": 27,
   "metadata": {
    "scrolled": true
   },
   "outputs": [
    {
     "data": {
      "application/vnd.jupyter.widget-view+json": {
       "model_id": "882bd36a0b8e4d14b2646b698d31b197",
       "version_major": 2,
       "version_minor": 0
      },
      "text/plain": [
       "HBox(children=(IntProgress(value=1, bar_style='info', max=1), HTML(value='')))"
      ]
     },
     "metadata": {},
     "output_type": "display_data"
    },
    {
     "name": "stderr",
     "output_type": "stream",
     "text": [
      "D:\\Anaconda\\lib\\site-packages\\ipykernel_launcher.py:12: SettingWithCopyWarning: \n",
      "A value is trying to be set on a copy of a slice from a DataFrame.\n",
      "Try using .loc[row_indexer,col_indexer] = value instead\n",
      "\n",
      "See the caveats in the documentation: http://pandas.pydata.org/pandas-docs/stable/indexing.html#indexing-view-versus-copy\n",
      "  if sys.path[0] == '':\n",
      "D:\\Anaconda\\lib\\site-packages\\ipykernel_launcher.py:13: SettingWithCopyWarning: \n",
      "A value is trying to be set on a copy of a slice from a DataFrame.\n",
      "Try using .loc[row_indexer,col_indexer] = value instead\n",
      "\n",
      "See the caveats in the documentation: http://pandas.pydata.org/pandas-docs/stable/indexing.html#indexing-view-versus-copy\n",
      "  del sys.path[0]\n",
      "D:\\Anaconda\\lib\\site-packages\\ipykernel_launcher.py:14: SettingWithCopyWarning: \n",
      "A value is trying to be set on a copy of a slice from a DataFrame.\n",
      "Try using .loc[row_indexer,col_indexer] = value instead\n",
      "\n",
      "See the caveats in the documentation: http://pandas.pydata.org/pandas-docs/stable/indexing.html#indexing-view-versus-copy\n",
      "  \n",
      "D:\\Anaconda\\lib\\site-packages\\ipykernel_launcher.py:15: SettingWithCopyWarning: \n",
      "A value is trying to be set on a copy of a slice from a DataFrame.\n",
      "Try using .loc[row_indexer,col_indexer] = value instead\n",
      "\n",
      "See the caveats in the documentation: http://pandas.pydata.org/pandas-docs/stable/indexing.html#indexing-view-versus-copy\n",
      "  from ipykernel import kernelapp as app\n"
     ]
    },
    {
     "data": {
      "text/html": [
       "<div>\n",
       "<style scoped>\n",
       "    .dataframe tbody tr th:only-of-type {\n",
       "        vertical-align: middle;\n",
       "    }\n",
       "\n",
       "    .dataframe tbody tr th {\n",
       "        vertical-align: top;\n",
       "    }\n",
       "\n",
       "    .dataframe thead th {\n",
       "        text-align: right;\n",
       "    }\n",
       "</style>\n",
       "<table border=\"1\" class=\"dataframe\">\n",
       "  <thead>\n",
       "    <tr style=\"text-align: right;\">\n",
       "      <th></th>\n",
       "      <th>title</th>\n",
       "      <th>label</th>\n",
       "      <th>bias</th>\n",
       "      <th>title_lemmas</th>\n",
       "      <th>title_pos</th>\n",
       "      <th>title_tags</th>\n",
       "      <th>title_deps</th>\n",
       "    </tr>\n",
       "  </thead>\n",
       "  <tbody>\n",
       "    <tr>\n",
       "      <th>0</th>\n",
       "      <td>SAN FRANCISCO / Head of Juvenile Probation Dep...</td>\n",
       "      <td>False</td>\n",
       "      <td>left-center</td>\n",
       "      <td>(san, francisco, /, head, of, juvenile, probat...</td>\n",
       "      <td>(PROPN, PROPN, SYM, PROPN, ADP, PROPN, PROPN, ...</td>\n",
       "      <td>(NNP, NNP, SYM, NNP, IN, NNP, NNP, NNP, IN, NN...</td>\n",
       "      <td>(compound, nsubj, punct, appos, prep, compound...</td>\n",
       "    </tr>\n",
       "    <tr>\n",
       "      <th>1</th>\n",
       "      <td>University leaders ban pro-life flag display, ...</td>\n",
       "      <td>True</td>\n",
       "      <td>right</td>\n",
       "      <td>(university, leader, ban, pro, -, life, flag, ...</td>\n",
       "      <td>(NOUN, NOUN, VERB, ADJ, PUNCT, NOUN, NOUN, NOU...</td>\n",
       "      <td>(NN, NNS, VBP, JJ, ,, NN, NN, NN, ,, VB, PRP, ...</td>\n",
       "      <td>(compound, nsubj, ROOT, amod, punct, compound,...</td>\n",
       "    </tr>\n",
       "    <tr>\n",
       "      <th>2</th>\n",
       "      <td>DONALD TRUMP, GET YOUR TINY PIGGY PERVERT HAND...</td>\n",
       "      <td>True</td>\n",
       "      <td>left</td>\n",
       "      <td>(donald, trump, ,, get, your, tiny, piggy, per...</td>\n",
       "      <td>(NUM, NOUN, PUNCT, VERB, ADJ, ADJ, PROPN, PROP...</td>\n",
       "      <td>(CD, NN, ,, VB, PRP$, JJ, NNP, NNP, VBZ, RP, N...</td>\n",
       "      <td>(compound, nsubj, punct, ROOT, poss, amod, dob...</td>\n",
       "    </tr>\n",
       "    <tr>\n",
       "      <th>3</th>\n",
       "      <td>DIRTY: Hillary Clinton Implies Trump is a Nazi...</td>\n",
       "      <td>True</td>\n",
       "      <td>right</td>\n",
       "      <td>(dirty, :, hillary, clinton, implies, trump, b...</td>\n",
       "      <td>(NOUN, PUNCT, PROPN, PROPN, PROPN, PROPN, VERB...</td>\n",
       "      <td>(NNS, :, NNP, NNP, NNP, NNP, VBZ, DT, NNP, '',...</td>\n",
       "      <td>(ROOT, punct, compound, nsubj, compound, appos...</td>\n",
       "    </tr>\n",
       "    <tr>\n",
       "      <th>4</th>\n",
       "      <td>A Bipartisan Work Plan</td>\n",
       "      <td>False</td>\n",
       "      <td>right-center</td>\n",
       "      <td>(a, bipartisan, work, plan)</td>\n",
       "      <td>(DET, PROPN, NOUN, NOUN)</td>\n",
       "      <td>(DT, NNP, NN, NN)</td>\n",
       "      <td>(det, compound, compound, ROOT)</td>\n",
       "    </tr>\n",
       "  </tbody>\n",
       "</table>\n",
       "</div>"
      ],
      "text/plain": [
       "                                               title  label          bias  \\\n",
       "0  SAN FRANCISCO / Head of Juvenile Probation Dep...  False   left-center   \n",
       "1  University leaders ban pro-life flag display, ...   True         right   \n",
       "2  DONALD TRUMP, GET YOUR TINY PIGGY PERVERT HAND...   True          left   \n",
       "3  DIRTY: Hillary Clinton Implies Trump is a Nazi...   True         right   \n",
       "4                             A Bipartisan Work Plan  False  right-center   \n",
       "\n",
       "                                        title_lemmas  \\\n",
       "0  (san, francisco, /, head, of, juvenile, probat...   \n",
       "1  (university, leader, ban, pro, -, life, flag, ...   \n",
       "2  (donald, trump, ,, get, your, tiny, piggy, per...   \n",
       "3  (dirty, :, hillary, clinton, implies, trump, b...   \n",
       "4                        (a, bipartisan, work, plan)   \n",
       "\n",
       "                                           title_pos  \\\n",
       "0  (PROPN, PROPN, SYM, PROPN, ADP, PROPN, PROPN, ...   \n",
       "1  (NOUN, NOUN, VERB, ADJ, PUNCT, NOUN, NOUN, NOU...   \n",
       "2  (NUM, NOUN, PUNCT, VERB, ADJ, ADJ, PROPN, PROP...   \n",
       "3  (NOUN, PUNCT, PROPN, PROPN, PROPN, PROPN, VERB...   \n",
       "4                           (DET, PROPN, NOUN, NOUN)   \n",
       "\n",
       "                                          title_tags  \\\n",
       "0  (NNP, NNP, SYM, NNP, IN, NNP, NNP, NNP, IN, NN...   \n",
       "1  (NN, NNS, VBP, JJ, ,, NN, NN, NN, ,, VB, PRP, ...   \n",
       "2  (CD, NN, ,, VB, PRP$, JJ, NNP, NNP, VBZ, RP, N...   \n",
       "3  (NNS, :, NNP, NNP, NNP, NNP, VBZ, DT, NNP, '',...   \n",
       "4                                  (DT, NNP, NN, NN)   \n",
       "\n",
       "                                          title_deps  \n",
       "0  (compound, nsubj, punct, appos, prep, compound...  \n",
       "1  (compound, nsubj, ROOT, amod, punct, compound,...  \n",
       "2  (compound, nsubj, punct, ROOT, poss, amod, dob...  \n",
       "3  (ROOT, punct, compound, nsubj, compound, appos...  \n",
       "4                    (det, compound, compound, ROOT)  "
      ]
     },
     "execution_count": 27,
     "metadata": {},
     "output_type": "execute_result"
    }
   ],
   "source": [
    "#test_df = test_df.dropna()\n",
    "test_df = parse(test_df, 'title')\n",
    "test_df.head()"
   ]
  },
  {
   "cell_type": "code",
   "execution_count": 28,
   "metadata": {
    "collapsed": true
   },
   "outputs": [],
   "source": [
    "test_df.to_csv('data/test_df_titles_spacy.csv', index=False)"
   ]
  },
  {
   "cell_type": "code",
   "execution_count": 29,
   "metadata": {
    "collapsed": true
   },
   "outputs": [],
   "source": [
    "train_df = train_df.dropna()"
   ]
  },
  {
   "cell_type": "code",
   "execution_count": 31,
   "metadata": {
    "scrolled": true
   },
   "outputs": [
    {
     "data": {
      "application/vnd.jupyter.widget-view+json": {
       "model_id": "0bf7a22e081a4a98b67a23fa627469ab",
       "version_major": 2,
       "version_minor": 0
      },
      "text/plain": [
       "HBox(children=(IntProgress(value=1, bar_style='info', max=1), HTML(value='')))"
      ]
     },
     "metadata": {},
     "output_type": "display_data"
    },
    {
     "name": "stderr",
     "output_type": "stream",
     "text": [
      "D:\\Anaconda\\lib\\site-packages\\ipykernel_launcher.py:12: SettingWithCopyWarning: \n",
      "A value is trying to be set on a copy of a slice from a DataFrame.\n",
      "Try using .loc[row_indexer,col_indexer] = value instead\n",
      "\n",
      "See the caveats in the documentation: http://pandas.pydata.org/pandas-docs/stable/indexing.html#indexing-view-versus-copy\n",
      "  if sys.path[0] == '':\n",
      "D:\\Anaconda\\lib\\site-packages\\ipykernel_launcher.py:13: SettingWithCopyWarning: \n",
      "A value is trying to be set on a copy of a slice from a DataFrame.\n",
      "Try using .loc[row_indexer,col_indexer] = value instead\n",
      "\n",
      "See the caveats in the documentation: http://pandas.pydata.org/pandas-docs/stable/indexing.html#indexing-view-versus-copy\n",
      "  del sys.path[0]\n",
      "D:\\Anaconda\\lib\\site-packages\\ipykernel_launcher.py:14: SettingWithCopyWarning: \n",
      "A value is trying to be set on a copy of a slice from a DataFrame.\n",
      "Try using .loc[row_indexer,col_indexer] = value instead\n",
      "\n",
      "See the caveats in the documentation: http://pandas.pydata.org/pandas-docs/stable/indexing.html#indexing-view-versus-copy\n",
      "  \n",
      "D:\\Anaconda\\lib\\site-packages\\ipykernel_launcher.py:15: SettingWithCopyWarning: \n",
      "A value is trying to be set on a copy of a slice from a DataFrame.\n",
      "Try using .loc[row_indexer,col_indexer] = value instead\n",
      "\n",
      "See the caveats in the documentation: http://pandas.pydata.org/pandas-docs/stable/indexing.html#indexing-view-versus-copy\n",
      "  from ipykernel import kernelapp as app\n"
     ]
    },
    {
     "data": {
      "text/html": [
       "<div>\n",
       "<style scoped>\n",
       "    .dataframe tbody tr th:only-of-type {\n",
       "        vertical-align: middle;\n",
       "    }\n",
       "\n",
       "    .dataframe tbody tr th {\n",
       "        vertical-align: top;\n",
       "    }\n",
       "\n",
       "    .dataframe thead th {\n",
       "        text-align: right;\n",
       "    }\n",
       "</style>\n",
       "<table border=\"1\" class=\"dataframe\">\n",
       "  <thead>\n",
       "    <tr style=\"text-align: right;\">\n",
       "      <th></th>\n",
       "      <th>title</th>\n",
       "      <th>label</th>\n",
       "      <th>bias</th>\n",
       "      <th>title_lemmas</th>\n",
       "      <th>title_pos</th>\n",
       "      <th>title_tags</th>\n",
       "      <th>title_deps</th>\n",
       "    </tr>\n",
       "  </thead>\n",
       "  <tbody>\n",
       "    <tr>\n",
       "      <th>0</th>\n",
       "      <td>After DeVos Announced Plans To Reexamine Title...</td>\n",
       "      <td>True</td>\n",
       "      <td>right</td>\n",
       "      <td>(after, devos, announced, plans, to, reexamine...</td>\n",
       "      <td>(ADP, PROPN, PROPN, PROPN, ADP, PROPN, PROPN, ...</td>\n",
       "      <td>(IN, NNP, NNP, NNPS, IN, NNP, NNP, NNP, ,, NNP...</td>\n",
       "      <td>(prep, pobj, compound, ROOT, prep, compound, c...</td>\n",
       "    </tr>\n",
       "    <tr>\n",
       "      <th>1</th>\n",
       "      <td>University To Award Trayvon Martin With Posthu...</td>\n",
       "      <td>True</td>\n",
       "      <td>right</td>\n",
       "      <td>(university, to, award, trayvon, martin, with,...</td>\n",
       "      <td>(PROPN, ADP, PROPN, PROPN, PROPN, ADP, PROPN, ...</td>\n",
       "      <td>(NNP, IN, NNP, NNP, NNP, IN, NNP, NNP, IN, NNP)</td>\n",
       "      <td>(compound, prep, pobj, compound, ROOT, prep, c...</td>\n",
       "    </tr>\n",
       "    <tr>\n",
       "      <th>2</th>\n",
       "      <td>Texas State University suspends Greek life aft...</td>\n",
       "      <td>False</td>\n",
       "      <td>right-center</td>\n",
       "      <td>(texas, state, university, suspend, greek, lif...</td>\n",
       "      <td>(PROPN, PROPN, PROPN, VERB, ADJ, NOUN, ADP, NO...</td>\n",
       "      <td>(NNP, NNP, NNP, VBZ, JJ, NN, IN, NN, NN)</td>\n",
       "      <td>(compound, compound, nsubj, ROOT, amod, dobj, ...</td>\n",
       "    </tr>\n",
       "    <tr>\n",
       "      <th>3</th>\n",
       "      <td>Jewish Organization's Huge Day Of Unity On Tue...</td>\n",
       "      <td>True</td>\n",
       "      <td>right</td>\n",
       "      <td>(jewish, organization, 's, huge, day, of, unit...</td>\n",
       "      <td>(PROPN, PROPN, PART, PROPN, PROPN, ADP, PROPN,...</td>\n",
       "      <td>(NNP, NNP, POS, NNP, NNP, IN, NNP, IN, NNP)</td>\n",
       "      <td>(amod, poss, case, compound, ROOT, prep, pobj,...</td>\n",
       "    </tr>\n",
       "    <tr>\n",
       "      <th>4</th>\n",
       "      <td>BREAKING: Trump Reaches Agreement To Keep 1,00...</td>\n",
       "      <td>True</td>\n",
       "      <td>right</td>\n",
       "      <td>(break, :, trump, reaches, agreement, to, keep...</td>\n",
       "      <td>(VERB, PUNCT, PROPN, PROPN, NOUN, PART, VERB, ...</td>\n",
       "      <td>(VBG, :, NNP, NNP, NN, TO, VB, CD, NNP, NNP, I...</td>\n",
       "      <td>(ROOT, punct, compound, compound, ROOT, aux, R...</td>\n",
       "    </tr>\n",
       "  </tbody>\n",
       "</table>\n",
       "</div>"
      ],
      "text/plain": [
       "                                               title  label          bias  \\\n",
       "0  After DeVos Announced Plans To Reexamine Title...   True         right   \n",
       "1  University To Award Trayvon Martin With Posthu...   True         right   \n",
       "2  Texas State University suspends Greek life aft...  False  right-center   \n",
       "3  Jewish Organization's Huge Day Of Unity On Tue...   True         right   \n",
       "4  BREAKING: Trump Reaches Agreement To Keep 1,00...   True         right   \n",
       "\n",
       "                                        title_lemmas  \\\n",
       "0  (after, devos, announced, plans, to, reexamine...   \n",
       "1  (university, to, award, trayvon, martin, with,...   \n",
       "2  (texas, state, university, suspend, greek, lif...   \n",
       "3  (jewish, organization, 's, huge, day, of, unit...   \n",
       "4  (break, :, trump, reaches, agreement, to, keep...   \n",
       "\n",
       "                                           title_pos  \\\n",
       "0  (ADP, PROPN, PROPN, PROPN, ADP, PROPN, PROPN, ...   \n",
       "1  (PROPN, ADP, PROPN, PROPN, PROPN, ADP, PROPN, ...   \n",
       "2  (PROPN, PROPN, PROPN, VERB, ADJ, NOUN, ADP, NO...   \n",
       "3  (PROPN, PROPN, PART, PROPN, PROPN, ADP, PROPN,...   \n",
       "4  (VERB, PUNCT, PROPN, PROPN, NOUN, PART, VERB, ...   \n",
       "\n",
       "                                          title_tags  \\\n",
       "0  (IN, NNP, NNP, NNPS, IN, NNP, NNP, NNP, ,, NNP...   \n",
       "1    (NNP, IN, NNP, NNP, NNP, IN, NNP, NNP, IN, NNP)   \n",
       "2           (NNP, NNP, NNP, VBZ, JJ, NN, IN, NN, NN)   \n",
       "3        (NNP, NNP, POS, NNP, NNP, IN, NNP, IN, NNP)   \n",
       "4  (VBG, :, NNP, NNP, NN, TO, VB, CD, NNP, NNP, I...   \n",
       "\n",
       "                                          title_deps  \n",
       "0  (prep, pobj, compound, ROOT, prep, compound, c...  \n",
       "1  (compound, prep, pobj, compound, ROOT, prep, c...  \n",
       "2  (compound, compound, nsubj, ROOT, amod, dobj, ...  \n",
       "3  (amod, poss, case, compound, ROOT, prep, pobj,...  \n",
       "4  (ROOT, punct, compound, compound, ROOT, aux, R...  "
      ]
     },
     "execution_count": 31,
     "metadata": {},
     "output_type": "execute_result"
    }
   ],
   "source": [
    "train_df = parse(train_df, 'title')\n",
    "train_df.head()"
   ]
  },
  {
   "cell_type": "code",
   "execution_count": 32,
   "metadata": {
    "collapsed": true
   },
   "outputs": [],
   "source": [
    "train_df.to_csv('data/train_df_titles_spacy.csv', index=False)"
   ]
  },
  {
   "cell_type": "code",
   "execution_count": 9,
   "metadata": {
    "scrolled": true
   },
   "outputs": [
    {
     "name": "stdout",
     "output_type": "stream",
     "text": [
      "Processing chunk 1\n",
      "nan\n",
      "nan\n",
      "nan\n",
      "nan\n",
      "nan\n",
      "nan\n",
      "nan\n",
      "nan\n",
      "nan\n",
      "nan\n",
      "nan\n",
      "nan\n",
      "nan\n",
      "nan\n",
      "nan\n",
      "nan\n",
      "nan\n",
      "nan\n",
      "nan\n",
      "nan\n",
      "nan\n",
      "nan\n",
      "nan\n",
      "nan\n",
      "nan\n",
      "nan\n"
     ]
    },
    {
     "data": {
      "application/vnd.jupyter.widget-view+json": {
       "model_id": "1d8b59063bfe4a4598c8dee2e9d99359",
       "version_major": 2,
       "version_minor": 0
      },
      "text/plain": [
       "HBox(children=(IntProgress(value=1, bar_style='info', max=1), HTML(value='')))"
      ]
     },
     "metadata": {},
     "output_type": "display_data"
    },
    {
     "name": "stdout",
     "output_type": "stream",
     "text": [
      "\n",
      "Processing chunk 2\n",
      "nan\n",
      "nan\n",
      "nan\n",
      "nan\n",
      "nan\n",
      "nan\n",
      "nan\n",
      "nan\n",
      "nan\n",
      "nan\n",
      "nan\n",
      "nan\n",
      "nan\n",
      "nan\n",
      "nan\n",
      "nan\n",
      "nan\n",
      "nan\n",
      "nan\n",
      "nan\n",
      "nan\n",
      "nan\n",
      "nan\n",
      "nan\n",
      "nan\n",
      "nan\n"
     ]
    },
    {
     "data": {
      "application/vnd.jupyter.widget-view+json": {
       "model_id": "60b5775839aa41c4aeb66009e3de10bd",
       "version_major": 2,
       "version_minor": 0
      },
      "text/plain": [
       "HBox(children=(IntProgress(value=1, bar_style='info', max=1), HTML(value='')))"
      ]
     },
     "metadata": {},
     "output_type": "display_data"
    },
    {
     "name": "stdout",
     "output_type": "stream",
     "text": [
      "\n",
      "Processing chunk 3\n",
      "nan\n",
      "nan\n",
      "nan\n",
      "nan\n",
      "nan\n",
      "nan\n",
      "nan\n",
      "nan\n",
      "nan\n",
      "nan\n",
      "nan\n"
     ]
    },
    {
     "data": {
      "application/vnd.jupyter.widget-view+json": {
       "model_id": "0a125dcf47074020bdf6faad2aed1e1a",
       "version_major": 2,
       "version_minor": 0
      },
      "text/plain": [
       "HBox(children=(IntProgress(value=1, bar_style='info', max=1), HTML(value='')))"
      ]
     },
     "metadata": {},
     "output_type": "display_data"
    },
    {
     "name": "stdout",
     "output_type": "stream",
     "text": [
      "\n",
      "Processing chunk 4\n",
      "nan\n",
      "nan\n",
      "nan\n",
      "nan\n",
      "nan\n",
      "nan\n",
      "nan\n",
      "nan\n",
      "nan\n",
      "nan\n",
      "nan\n",
      "nan\n",
      "nan\n",
      "nan\n",
      "nan\n",
      "nan\n",
      "nan\n",
      "nan\n",
      "nan\n",
      "nan\n",
      "nan\n",
      "nan\n",
      "nan\n",
      "nan\n"
     ]
    },
    {
     "data": {
      "application/vnd.jupyter.widget-view+json": {
       "model_id": "0b9b13708bb34afebeea880de8b8f113",
       "version_major": 2,
       "version_minor": 0
      },
      "text/plain": [
       "HBox(children=(IntProgress(value=1, bar_style='info', max=1), HTML(value='')))"
      ]
     },
     "metadata": {},
     "output_type": "display_data"
    },
    {
     "name": "stdout",
     "output_type": "stream",
     "text": [
      "\n",
      "Processing chunk 5\n",
      "nan\n",
      "nan\n",
      "nan\n",
      "nan\n",
      "nan\n",
      "nan\n",
      "nan\n",
      "nan\n",
      "nan\n",
      "nan\n",
      "nan\n",
      "nan\n",
      "nan\n",
      "nan\n",
      "nan\n",
      "nan\n",
      "nan\n",
      "nan\n"
     ]
    },
    {
     "data": {
      "application/vnd.jupyter.widget-view+json": {
       "model_id": "fe89d2ec23ce4dd88eda06a1af8fce0b",
       "version_major": 2,
       "version_minor": 0
      },
      "text/plain": [
       "HBox(children=(IntProgress(value=1, bar_style='info', max=1), HTML(value='')))"
      ]
     },
     "metadata": {},
     "output_type": "display_data"
    },
    {
     "name": "stdout",
     "output_type": "stream",
     "text": [
      "\n",
      "Processing chunk 6\n",
      "nan\n",
      "nan\n",
      "nan\n",
      "nan\n",
      "nan\n",
      "nan\n",
      "nan\n",
      "nan\n",
      "nan\n",
      "nan\n",
      "nan\n",
      "nan\n",
      "nan\n",
      "nan\n",
      "nan\n",
      "nan\n",
      "nan\n",
      "nan\n",
      "nan\n"
     ]
    },
    {
     "data": {
      "application/vnd.jupyter.widget-view+json": {
       "model_id": "6d604a39b6a04607badab7a3d04a11f8",
       "version_major": 2,
       "version_minor": 0
      },
      "text/plain": [
       "HBox(children=(IntProgress(value=1, bar_style='info', max=1), HTML(value='')))"
      ]
     },
     "metadata": {},
     "output_type": "display_data"
    },
    {
     "name": "stdout",
     "output_type": "stream",
     "text": [
      "\n"
     ]
    }
   ],
   "source": [
    "# Training dataset is too large. Do in chunks.\n",
    "i = 1\n",
    "for chunk in pd.read_csv('data/train_df.csv', chunksize=100000, encoding='utf8', engine='python'):\n",
    "    print('Processing chunk ' + str(i))\n",
    "    chunk['text'] = chunk['text'].apply(check_str)\n",
    "    chunk = parse(chunk)\n",
    "    chunk.to_csv('train_df_spacy' + str(i) + '.csv', index=False)\n",
    "    i += 1"
   ]
  },
  {
   "cell_type": "code",
   "execution_count": null,
   "metadata": {
    "collapsed": true
   },
   "outputs": [],
   "source": [
    "train_df.head()"
   ]
  },
  {
   "cell_type": "code",
   "execution_count": null,
   "metadata": {
    "collapsed": true
   },
   "outputs": [],
   "source": [
    "train_df.to_csv('data/train_df_spacy.csv', index=False)"
   ]
  },
  {
   "cell_type": "code",
   "execution_count": null,
   "metadata": {
    "collapsed": true
   },
   "outputs": [],
   "source": [
    "byarticle_df = parse(byarticle_df)"
   ]
  },
  {
   "cell_type": "code",
   "execution_count": null,
   "metadata": {
    "collapsed": true
   },
   "outputs": [],
   "source": [
    "byarticle_df.head()"
   ]
  },
  {
   "cell_type": "code",
   "execution_count": null,
   "metadata": {
    "collapsed": true
   },
   "outputs": [],
   "source": [
    "byarticle_df.to_csv('byarticle_df_spacy.csv', index=False)"
   ]
  },
  {
   "cell_type": "code",
   "execution_count": null,
   "metadata": {
    "collapsed": true
   },
   "outputs": [],
   "source": []
  }
 ],
 "metadata": {
  "kernelspec": {
   "display_name": "Python 3",
   "language": "python",
   "name": "python3"
  },
  "language_info": {
   "codemirror_mode": {
    "name": "ipython",
    "version": 3
   },
   "file_extension": ".py",
   "mimetype": "text/x-python",
   "name": "python",
   "nbconvert_exporter": "python",
   "pygments_lexer": "ipython3",
   "version": "3.6.3"
  }
 },
 "nbformat": 4,
 "nbformat_minor": 2
}
